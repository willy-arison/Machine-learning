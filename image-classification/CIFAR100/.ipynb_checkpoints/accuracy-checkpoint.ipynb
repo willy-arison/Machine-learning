{
 "cells": [
  {
   "cell_type": "code",
   "execution_count": 1,
   "metadata": {},
   "outputs": [
    {
     "ename": "ImportError",
     "evalue": "cannot import name 'ResNet' from 'model' (/teamspace/studios/this_studio/CIFAR100/model.py)",
     "output_type": "error",
     "traceback": [
      "\u001b[0;31m---------------------------------------------------------------------------\u001b[0m",
      "\u001b[0;31mImportError\u001b[0m                               Traceback (most recent call last)",
      "Cell \u001b[0;32mIn[1], line 1\u001b[0m\n\u001b[0;32m----> 1\u001b[0m \u001b[38;5;28;01mfrom\u001b[39;00m\u001b[38;5;250m \u001b[39m\u001b[38;5;21;01mmodel\u001b[39;00m\u001b[38;5;250m \u001b[39m\u001b[38;5;28;01mimport\u001b[39;00m CNN, Classifier, ResNet, ResidualBlock\n\u001b[1;32m      2\u001b[0m \u001b[38;5;28;01mfrom\u001b[39;00m\u001b[38;5;250m \u001b[39m\u001b[38;5;21;01mpytorch_lightning\u001b[39;00m\u001b[38;5;250m \u001b[39m\u001b[38;5;28;01mimport\u001b[39;00m Trainer\n\u001b[1;32m      3\u001b[0m \u001b[38;5;28;01mimport\u001b[39;00m\u001b[38;5;250m \u001b[39m\u001b[38;5;21;01mglob\u001b[39;00m\n",
      "\u001b[0;31mImportError\u001b[0m: cannot import name 'ResNet' from 'model' (/teamspace/studios/this_studio/CIFAR100/model.py)"
     ]
    }
   ],
   "source": [
    "from model import CNN, Classifier, ResNet, ResidualBlock\n",
    "from pytorch_lightning import Trainer\n",
    "import glob\n",
    "from ghf import ActGHF\n",
    "import torch.nn as nn\n",
    "from train import test_loader\n",
    "\n",
    "import logging\n",
    "logging.getLogger(\"pytorch_lightning\").setLevel(logging.WARNING)\n",
    "\n",
    "list_model = {'GHF':ActGHF(), 'Logistic':nn.Sigmoid(), 'Tanh':nn.Tanh(), 'ReLU':nn.ReLU(),'Mish': nn.Mish(),'LeakyReLU':nn.LeakyReLU()}\n",
    "version = 2\n",
    "\n",
    "trainer = Trainer(accelerator=\"gpu\", devices=1)\n",
    "\n",
    "for name, act in list_model.items():\n",
    "    # Path to the checkpoint file\n",
    "    checkpoint_path = f\"logs/{name}/version_{version}/checkpoints\"\n",
    "    ckp_file = glob.glob(f'{checkpoint_path}/*.ckpt')\n",
    " \n",
    "    # cnn_model = CNN(activation_fn=act)\n",
    "    cnn_model = ResNet(ResidualBlock, [3, 3, 3], num_classes=num_classes, activation_fn=act)\n",
    "    model = Classifier.load_from_checkpoint(ckp_file[0], model=cnn_model)\n",
    "\n",
    "    print('-'*50)\n",
    "    print(f'Accuracy with {name}: \\n')\n",
    "    results = trainer.test(model, dataloaders=test_loader)\n",
    "\n",
    "    # 4 decimal precision\n",
    "    for metric, value in results[0].items():\n",
    "        print(f\"{metric}: {value*100:.2f}%\")\n"
   ]
  }
 ],
 "metadata": {
  "language_info": {
   "name": "python"
  }
 },
 "nbformat": 4,
 "nbformat_minor": 2
}
